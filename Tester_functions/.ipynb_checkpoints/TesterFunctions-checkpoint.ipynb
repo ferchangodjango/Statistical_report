{
 "cells": [
  {
   "cell_type": "code",
   "execution_count": 1,
   "id": "26e9cc17-c71a-440e-9be5-7b6718499795",
   "metadata": {},
   "outputs": [],
   "source": [
    "import mysql.connector"
   ]
  },
  {
   "cell_type": "code",
   "execution_count": 2,
   "id": "6ebe4dc6-1436-4b19-8062-33b5f3cf6a26",
   "metadata": {},
   "outputs": [],
   "source": [
    "import pandas as pd"
   ]
  },
  {
   "cell_type": "code",
   "execution_count": 3,
   "id": "d095064e-a5f3-415f-bbd9-8bba7826daca",
   "metadata": {},
   "outputs": [],
   "source": [
    "import pingouin as pgn\n",
    "from bokeh.plotting import show,figure"
   ]
  },
  {
   "cell_type": "code",
   "execution_count": 4,
   "id": "5d66ac60-ce70-4b10-b26d-0922138ff344",
   "metadata": {},
   "outputs": [],
   "source": [
    "from scipy import stats"
   ]
  },
  {
   "cell_type": "code",
   "execution_count": 5,
   "id": "51bac2f4-9abd-4e55-806e-b2e5af24f41b",
   "metadata": {},
   "outputs": [],
   "source": [
    "try:\n",
    "    connection=mysql.connector.connect(\n",
    "        host='192.168.1.200',\n",
    "        port=3306,\n",
    "        user='remoteuser',\n",
    "        password='1234',\n",
    "        db='Packed_company'\n",
    "    )\n",
    "    cursor=connection.cursor()\n",
    "    cursor.execute(\"\"\"SELECT AMONIAC_SAMPLE,FORCE_SAMPLE\n",
    "        FROM tbl_experimentsample\"\"\")\n",
    "    answer=cursor.fetchall()\n",
    "    df=pd.DataFrame(answer)\n",
    "except Exception as ex:\n",
    "    raise Exception(ex)\n",
    "    \n",
    "    "
   ]
  },
  {
   "cell_type": "code",
   "execution_count": 6,
   "id": "e91d9d3f-99b3-468a-8f9a-2c5b426026a3",
   "metadata": {},
   "outputs": [],
   "source": [
    "def lineal_regression_v2(data,column1,column2,widht=400,heigth=400):\n",
    "\n",
    "    #Calculo de la regresion lineal.\n",
    "    rls=pgn.linear_regression(X=data[column1],y=data[column2],as_dataframe=False)\n",
    "    b0=rls['coef'][0]\n",
    "    b1=rls['coef'][1]\n",
    "\n",
    "    data['Y_Estimada']=b0+b1*data[column1]\n",
    "    \n",
    "    \n",
    "    #Calculo de la media y el numero de datos en la columna.\n",
    "    x_media=(data[column1].mean())\n",
    "    n=len(data[column1])\n",
    "    #Calculo del estadistico t para los intervalos de confianza y predicción respectivamente.\n",
    "    alpha=0.05\n",
    "    stadistic=abs(stats.t.ppf(alpha/2,df=n-2))\n",
    "    #Calculo de Sxx\n",
    "    data['Error']=+data[column2]-data['Y_Estimada']\n",
    "    data['Error_Sqr']=+(data['Error'])**2\n",
    "    s_sqr=(data['Error_Sqr'].sum())/(n-2)\n",
    "    s=s_sqr**0.5\n",
    "    data['xx']=(data[column1]-x_media)**2\n",
    "    #Constante\n",
    "    Sxx=data['xx'].sum()\n",
    "    \n",
    "    data['LIPI']=data['Y_Estimada']-stadistic*s*((1/n)+((data[column1]-x_media)**2/Sxx))**0.5\n",
    "    data['LSPI']=data['Y_Estimada']+stadistic*s*((1/n)+((data[column1]-x_media)**2/Sxx))**0.5\n",
    "\n",
    "    data['LIPIF']=data['Y_Estimada']-stadistic*s*(1+(1/n)+((data[column1]-x_media)**2/Sxx))**0.5\n",
    "    data['LSPIF']=data['Y_Estimada']+stadistic*s*(1+(1/n)+((data[column1]-x_media)**2/Sxx))**0.5\n",
    "\n",
    "\n",
    "    min_value=int(data[column1].min())-1\n",
    "    max_value=int(data[column1].max())+1\n",
    "    #Ecuación de regresión lineal simple\n",
    "    x=[i for i in range(min_value,max_value,1)]\n",
    "    Y_estimada=[(b0+b1*j) for j in x]\n",
    "    \n",
    "    #Ecuación de limite infererior y superior de predicción inside (lipi & lspi)\n",
    "    LIPI=[(Y_estimada[i]-stadistic*s*((1/n)+((x[i]-x_media)**2/Sxx))**0.5) for i in range(len(x))]\n",
    "    LSPI=[(Y_estimada[i]+stadistic*s*((1/n)+((x[i]-x_media)**2/Sxx))**0.5) for i in range(len(x))]\n",
    "\n",
    "    #Ecuación de limite infererior y superior de predicción future (lipif & lspif)\n",
    "    LIPIF=[(Y_estimada[j]-stadistic*s*(1+(1/n)+((x[j]-x_media)**2/Sxx))**0.5) for j in range(len(x))]\n",
    "    LSPIF=[(Y_estimada[j]+stadistic*s*(1+(1/n)+((x[j]-x_media)**2/Sxx))**0.5) for j in range(len(x))]\n",
    "    \n",
    "    \n",
    "    figure1=figure(\n",
    "        title=column2,\n",
    "        plot_width=widht,plot_height=heigth,\n",
    "        toolbar_location='below')\n",
    "    \n",
    "    figure1.xgrid.grid_line_color=None\n",
    "    figure1.xaxis.axis_label=column1\n",
    "    figure1.xaxis.major_label_text_font_size='15px'\n",
    "    figure1.yaxis.axis_label=column2\n",
    "    figure1.toolbar.autohide=True\n",
    "\n",
    "    figure1.scatter(data[column1],data[column2],size=2,color='navy',alpha=0.5)\n",
    "    figure1.line(x,Y_estimada)\n",
    "    figure1.line(x,LIPI)\n",
    "    figure1.line(x,LSPI)\n",
    "    figure1.line(x,LSPIF)\n",
    "    figure1.line(x,LIPIF)\n",
    "    figure1.varea(x=x,\n",
    "                  y1=LSPI,\n",
    "                  y2=LIPI,fill_color='#0CE82A',alpha=0.3)\n",
    "    \n",
    "    figure1.varea(x=x,\n",
    "                  y1=LSPIF,\n",
    "                  y2=LIPIF,fill_color='#0C70E8',alpha=0.3)\n",
    "    \n",
    "    return figure1"
   ]
  },
  {
   "cell_type": "code",
   "execution_count": null,
   "id": "5fbac499-c67a-4edc-801b-a06123c11248",
   "metadata": {},
   "outputs": [],
   "source": [
    "def lineal_regression_v2(data,column1,column2,variable):\n",
    "\n",
    "    #Calculo de la regresion lineal.\n",
    "    rls=pgn.linear_regression(X=data[column1],y=data[column2],as_dataframe=False)\n",
    "    b0=rls['coef'][0]\n",
    "    b1=rls['coef'][1]\n",
    "\n",
    "    data['Y_Estimada']=b0+b1*data[column1]\n",
    "    \n",
    "    \n",
    "    #Calculo de la media y el numero de datos en la columna.\n",
    "    x_media=(data[column1].mean())\n",
    "    n=len(data[column1])\n",
    "    #Calculo del estadistico t para los intervalos de confianza y predicción respectivamente.\n",
    "    alpha=0.05\n",
    "    stadistic=abs(stats.t.ppf(alpha/2,df=n-2))\n",
    "    #Calculo de Sxx\n",
    "    data['Error']=+data[column2]-data['Y_Estimada']\n",
    "    data['Error_Sqr']=+(data['Error'])**2\n",
    "    s_sqr=(data['Error_Sqr'].sum())/(n-2)\n",
    "    s=s_sqr**0.5\n",
    "    data['xx']=(data[column1]-x_media)**2\n",
    "    #Constante\n",
    "    Sxx=data['xx'].sum()\n",
    "    \n",
    "    data['LIPI']=data['Y_Estimada']-stadistic*s*((1/n)+((data[column1]-x_media)**2/Sxx))**0.5\n",
    "    data['LSPI']=data['Y_Estimada']+stadistic*s*((1/n)+((data[column1]-x_media)**2/Sxx))**0.5\n",
    "\n",
    "    data['LIPIF']=data['Y_Estimada']-stadistic*s*(1+(1/n)+((data[column1]-x_media)**2/Sxx))**0.5\n",
    "    data['LSPIF']=data['Y_Estimada']+stadistic*s*(1+(1/n)+((data[column1]-x_media)**2/Sxx))**0.5\n",
    "\n",
    "\n",
    "    min_value=int(data[column1].min())-1\n",
    "    max_value=int(data[column1].max())+1\n",
    "    #Ecuación de regresión lineal simple\n",
    "    x=variable\n",
    "    Y_estimada=(b0+b1*x)\n",
    "    \n",
    "    #Ecuación de limite infererior y superior de predicción inside (lipi & lspi)\n",
    "    LIPI=(Y_estimada-stadistic*s*((1/n)+((x-x_media)**2/Sxx))**0.5)\n",
    "    LSPI=(Y_estimada+stadistic*s*((1/n)+((x-x_media)**2/Sxx))**0.5)\n",
    "\n",
    "    #Ecuación de limite infererior y superior de predicción future (lipif & lspif)\n",
    "    LIPIF=(Y_estimada-stadistic*s*(1+(1/n)+((x-x_media)**2/Sxx))**0.5)\n",
    "    LSPIF=(Y_estimada+stadistic*s*(1+(1/n)+((x-x_media)**2/Sxx))**0.5)\n",
    "    data={\n",
    "        \"Y_estimada\":Y_estimada,\n",
    "        \"LIPI\":LIPI,\n",
    "        \"LSPI\":LSPI,\n",
    "        \"LIPIF\":LIPIF,\n",
    "        \"LSPIF\":LSPIF }\n",
    "    \n",
    "    return data"
   ]
  },
  {
   "cell_type": "code",
   "execution_count": 7,
   "id": "2cd31b47-cd4c-4a0f-b42f-757df2f4ad53",
   "metadata": {},
   "outputs": [],
   "source": [
    "df=df.rename(columns={0:'x',1:'y'})\n"
   ]
  },
  {
   "cell_type": "code",
   "execution_count": 8,
   "id": "cb75cf78-dd9e-4d55-9bb9-eb56efa39785",
   "metadata": {},
   "outputs": [],
   "source": [
    "figure1=lineal_regression_v2(df,'x','y')"
   ]
  },
  {
   "cell_type": "code",
   "execution_count": 9,
   "id": "a7a6b49d-660f-4fc9-8802-2c27438b59bd",
   "metadata": {},
   "outputs": [],
   "source": [
    "show(figure1)"
   ]
  },
  {
   "cell_type": "code",
   "execution_count": null,
   "id": "aad172f5-c046-4dcd-bbef-3c7f63864c78",
   "metadata": {},
   "outputs": [],
   "source": []
  }
 ],
 "metadata": {
  "kernelspec": {
   "display_name": "Python 3 (ipykernel)",
   "language": "python",
   "name": "python3"
  },
  "language_info": {
   "codemirror_mode": {
    "name": "ipython",
    "version": 3
   },
   "file_extension": ".py",
   "mimetype": "text/x-python",
   "name": "python",
   "nbconvert_exporter": "python",
   "pygments_lexer": "ipython3",
   "version": "3.10.1"
  }
 },
 "nbformat": 4,
 "nbformat_minor": 5
}

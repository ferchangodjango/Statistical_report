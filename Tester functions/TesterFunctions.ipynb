{
 "cells": [
  {
   "cell_type": "markdown",
   "id": "ebe56482-3600-45a2-81fc-536e789fbdee",
   "metadata": {},
   "source": [
    "## Importación de librerias"
   ]
  },
  {
   "cell_type": "code",
   "execution_count": 1,
   "id": "26e9cc17-c71a-440e-9be5-7b6718499795",
   "metadata": {},
   "outputs": [],
   "source": [
    "import mysql.connector"
   ]
  },
  {
   "cell_type": "code",
   "execution_count": 2,
   "id": "6ebe4dc6-1436-4b19-8062-33b5f3cf6a26",
   "metadata": {},
   "outputs": [],
   "source": [
    "import pandas as pd"
   ]
  },
  {
   "cell_type": "code",
   "execution_count": 38,
   "id": "d095064e-a5f3-415f-bbd9-8bba7826daca",
   "metadata": {},
   "outputs": [],
   "source": [
    "import pingouin as pgn\n",
    "from bokeh.plotting import show,figure"
   ]
  },
  {
   "cell_type": "code",
   "execution_count": 40,
   "id": "5bd10f89-923d-498e-9d85-f089fe6765d1",
   "metadata": {},
   "outputs": [],
   "source": [
    "from bokeh.layouts import layout"
   ]
  },
  {
   "cell_type": "code",
   "execution_count": 12,
   "id": "3a5bcdcc-def4-4357-8bae-279929cfb18f",
   "metadata": {},
   "outputs": [],
   "source": [
    "from scipy import stats\n",
    "import math\n",
    "import numpy as np"
   ]
  },
  {
   "cell_type": "code",
   "execution_count": 15,
   "id": "8f5c6a2b-90a7-4256-8a80-95cb4673162f",
   "metadata": {},
   "outputs": [],
   "source": [
    "import random"
   ]
  },
  {
   "cell_type": "markdown",
   "id": "53457cd3-0e87-4749-a62a-95bc4edf131c",
   "metadata": {
    "jp-MarkdownHeadingCollapsed": true
   },
   "source": [
    "## Conecciones"
   ]
  },
  {
   "cell_type": "code",
   "execution_count": 5,
   "id": "51bac2f4-9abd-4e55-806e-b2e5af24f41b",
   "metadata": {},
   "outputs": [],
   "source": [
    "try:\n",
    "    connection=mysql.connector.connect(\n",
    "        host='192.168.1.200',\n",
    "        port=3306,\n",
    "        user='remoteuser',\n",
    "        password='1234',\n",
    "        db='Packed_company'\n",
    "    )\n",
    "    cursor=connection.cursor()\n",
    "    cursor.execute(\"\"\"SELECT SAMPLE_RIVER_DOWN\n",
    "            FROM tbl_samplemeasure\"\"\")\n",
    "    answer=cursor.fetchall()\n",
    "    df=pd.DataFrame(answer)\n",
    "except Exception as ex:\n",
    "    raise Exception(ex)\n",
    "    \n",
    "    "
   ]
  },
  {
   "cell_type": "markdown",
   "id": "51548016-741a-4e86-aa5d-3680bb6799dc",
   "metadata": {
    "jp-MarkdownHeadingCollapsed": true
   },
   "source": [
    "## Regresion lineal 2"
   ]
  },
  {
   "cell_type": "code",
   "execution_count": 6,
   "id": "e91d9d3f-99b3-468a-8f9a-2c5b426026a3",
   "metadata": {},
   "outputs": [],
   "source": [
    "def lineal_regression_v2(data,column1,column2,widht=400,heigth=400):\n",
    "\n",
    "    #Calculo de la regresion lineal.\n",
    "    rls=pgn.linear_regression(X=data[column1],y=data[column2],as_dataframe=False)\n",
    "    b0=rls['coef'][0]\n",
    "    b1=rls['coef'][1]\n",
    "\n",
    "    data['Y_Estimada']=b0+b1*data[column1]\n",
    "    \n",
    "    \n",
    "    #Calculo de la media y el numero de datos en la columna.\n",
    "    x_media=(data[column1].mean())\n",
    "    n=len(data[column1])\n",
    "    #Calculo del estadistico t para los intervalos de confianza y predicción respectivamente.\n",
    "    alpha=0.05\n",
    "    stadistic=abs(stats.t.ppf(alpha/2,df=n-2))\n",
    "    #Calculo de Sxx\n",
    "    data['Error']=+data[column2]-data['Y_Estimada']\n",
    "    data['Error_Sqr']=+(data['Error'])**2\n",
    "    s_sqr=(data['Error_Sqr'].sum())/(n-2)\n",
    "    s=s_sqr**0.5\n",
    "    data['xx']=(data[column1]-x_media)**2\n",
    "    #Constante\n",
    "    Sxx=data['xx'].sum()\n",
    "    \n",
    "    data['LIPI']=data['Y_Estimada']-stadistic*s*((1/n)+((data[column1]-x_media)**2/Sxx))**0.5\n",
    "    data['LSPI']=data['Y_Estimada']+stadistic*s*((1/n)+((data[column1]-x_media)**2/Sxx))**0.5\n",
    "\n",
    "    data['LIPIF']=data['Y_Estimada']-stadistic*s*(1+(1/n)+((data[column1]-x_media)**2/Sxx))**0.5\n",
    "    data['LSPIF']=data['Y_Estimada']+stadistic*s*(1+(1/n)+((data[column1]-x_media)**2/Sxx))**0.5\n",
    "\n",
    "\n",
    "    min_value=int(data[column1].min())-1\n",
    "    max_value=int(data[column1].max())+1\n",
    "    #Ecuación de regresión lineal simple\n",
    "    x=[i for i in range(min_value,max_value,1)]\n",
    "    Y_estimada=[(b0+b1*j) for j in x]\n",
    "    \n",
    "    #Ecuación de limite infererior y superior de predicción inside (lipi & lspi)\n",
    "    LIPI=[(Y_estimada[i]-stadistic*s*((1/n)+((x[i]-x_media)**2/Sxx))**0.5) for i in range(len(x))]\n",
    "    LSPI=[(Y_estimada[i]+stadistic*s*((1/n)+((x[i]-x_media)**2/Sxx))**0.5) for i in range(len(x))]\n",
    "\n",
    "    #Ecuación de limite infererior y superior de predicción future (lipif & lspif)\n",
    "    LIPIF=[(Y_estimada[j]-stadistic*s*(1+(1/n)+((x[j]-x_media)**2/Sxx))**0.5) for j in range(len(x))]\n",
    "    LSPIF=[(Y_estimada[j]+stadistic*s*(1+(1/n)+((x[j]-x_media)**2/Sxx))**0.5) for j in range(len(x))]\n",
    "    \n",
    "    \n",
    "    figure1=figure(\n",
    "        title=column2,\n",
    "        plot_width=widht,plot_height=heigth,\n",
    "        toolbar_location='below')\n",
    "    \n",
    "    figure1.xgrid.grid_line_color=None\n",
    "    figure1.xaxis.axis_label=column1\n",
    "    figure1.xaxis.major_label_text_font_size='15px'\n",
    "    figure1.yaxis.axis_label=column2\n",
    "    figure1.toolbar.autohide=True\n",
    "\n",
    "    figure1.scatter(data[column1],data[column2],size=2,color='navy',alpha=0.5)\n",
    "    figure1.line(x,Y_estimada)\n",
    "    figure1.line(x,LIPI)\n",
    "    figure1.line(x,LSPI)\n",
    "    figure1.line(x,LSPIF)\n",
    "    figure1.line(x,LIPIF)\n",
    "    figure1.varea(x=x,\n",
    "                  y1=LSPI,\n",
    "                  y2=LIPI,fill_color='#0CE82A',alpha=0.3)\n",
    "    \n",
    "    figure1.varea(x=x,\n",
    "                  y1=LSPIF,\n",
    "                  y2=LIPIF,fill_color='#0C70E8',alpha=0.3)\n",
    "    \n",
    "    return figure1"
   ]
  },
  {
   "cell_type": "code",
   "execution_count": 10,
   "id": "5fbac499-c67a-4edc-801b-a06123c11248",
   "metadata": {},
   "outputs": [],
   "source": [
    "def lineal_regression_v2(data,column1,column2,variable):\n",
    "\n",
    "    #Calculo de la regresion lineal.\n",
    "    rls=pgn.linear_regression(X=data[column1],y=data[column2],as_dataframe=False)\n",
    "    b0=rls['coef'][0]\n",
    "    b1=rls['coef'][1]\n",
    "\n",
    "    data['Y_Estimada']=b0+b1*data[column1]\n",
    "    \n",
    "    \n",
    "    #Calculo de la media y el numero de datos en la columna.\n",
    "    x_media=(data[column1].mean())\n",
    "    n=len(data[column1])\n",
    "    #Calculo del estadistico t para los intervalos de confianza y predicción respectivamente.\n",
    "    alpha=0.05\n",
    "    stadistic=abs(stats.t.ppf(alpha/2,df=n-2))\n",
    "    #Calculo de Sxx\n",
    "    data['Error']=+data[column2]-data['Y_Estimada']\n",
    "    data['Error_Sqr']=+(data['Error'])**2\n",
    "    s_sqr=(data['Error_Sqr'].sum())/(n-2)\n",
    "    s=s_sqr**0.5\n",
    "    data['xx']=(data[column1]-x_media)**2\n",
    "    #Constante\n",
    "    Sxx=data['xx'].sum()\n",
    "    \n",
    "    data['LIPI']=data['Y_Estimada']-stadistic*s*((1/n)+((data[column1]-x_media)**2/Sxx))**0.5\n",
    "    data['LSPI']=data['Y_Estimada']+stadistic*s*((1/n)+((data[column1]-x_media)**2/Sxx))**0.5\n",
    "\n",
    "    data['LIPIF']=data['Y_Estimada']-stadistic*s*(1+(1/n)+((data[column1]-x_media)**2/Sxx))**0.5\n",
    "    data['LSPIF']=data['Y_Estimada']+stadistic*s*(1+(1/n)+((data[column1]-x_media)**2/Sxx))**0.5\n",
    "\n",
    "\n",
    "    min_value=int(data[column1].min())-1\n",
    "    max_value=int(data[column1].max())+1\n",
    "    #Ecuación de regresión lineal simple\n",
    "    x=variable\n",
    "    Y_estimada=(b0+b1*x)\n",
    "    \n",
    "    #Ecuación de limite infererior y superior de predicción inside (lipi & lspi)\n",
    "    LIPI=(Y_estimada-stadistic*s*((1/n)+((x-x_media)**2/Sxx))**0.5)\n",
    "    LSPI=(Y_estimada+stadistic*s*((1/n)+((x-x_media)**2/Sxx))**0.5)\n",
    "\n",
    "    #Ecuación de limite infererior y superior de predicción future (lipif & lspif)\n",
    "    LIPIF=(Y_estimada-stadistic*s*(1+(1/n)+((x-x_media)**2/Sxx))**0.5)\n",
    "    LSPIF=(Y_estimada+stadistic*s*(1+(1/n)+((x-x_media)**2/Sxx))**0.5)\n",
    "    data={\n",
    "        \"Y_estimada\":Y_estimada,\n",
    "        \"LIPI\":LIPI,\n",
    "        \"LSPI\":LSPI,\n",
    "        \"LIPIF\":LIPIF,\n",
    "        \"LSPIF\":LSPIF }\n",
    "    \n",
    "    return data"
   ]
  },
  {
   "cell_type": "markdown",
   "id": "580d7b50-ef4b-4833-ac12-86328b569697",
   "metadata": {
    "jp-MarkdownHeadingCollapsed": true
   },
   "source": [
    "## Histograma"
   ]
  },
  {
   "cell_type": "code",
   "execution_count": 6,
   "id": "81085c91-b280-4b57-9b4b-e3e9ca1e5648",
   "metadata": {},
   "outputs": [],
   "source": [
    "def histogram_plot(Data,column,name,distribution,m=0,std=1,s=0.9,n=500,p=0.1,ancho=400,alto=400):\n",
    "    N=Data[column].count()\n",
    "    figure_h=figure(title=name,plot_width=ancho,plot_height=alto,\n",
    "               toolbar_location=\"below\")\n",
    "    figure_h.xgrid.grid_line_color=None\n",
    "    figure_h.ygrid.grid_line_alpha=0.7\n",
    "    figure_h.xaxis.axis_label=str(column)\n",
    "    figure_h.yaxis.axis_label='Probability'\n",
    "    figure_h.toolbar.autohide=True\n",
    "    Number_intervals=int(round(1+3.322*math.log10(N),0))\n",
    "    \n",
    "    if distribution=='normal':\n",
    "        hist,edges=np.histogram(Data[column],density=True,bins=Number_intervals)\n",
    "        x = np.linspace(min(Data[column]), max(Data[column]), num=N)\n",
    "        y = stats.norm.pdf(x,m,std)\n",
    "        # Histograma distribución normal\n",
    "        figure_h.quad(top=hist,bottom=0,left=edges[:-1],right=edges[1:],\n",
    "              fill_color='#008080',line_color='black',legend_label='Normal_distribution')\n",
    "        figure_h.line(x,y,color='#181515',line_width=2)\n",
    "        return figure_h \n",
    "        \n",
    "    elif distribution=='lognormal':\n",
    "        hist,edges=np.histogram(Data[column],density=True,bins=100)\n",
    "        x = np.linspace(min(Data[column]), max(Data[column]), num=N)\n",
    "        y = stats.lognorm.pdf(x,s)\n",
    "        #Histograma distribucion logonormal\n",
    "        figure_h.quad(top=hist,bottom=0,left=edges[:-1],right=edges[1:],\n",
    "              fill_color='#008080',line_color='black',legend_label='Logormal_distribution')\n",
    "        figure_h.line(x,y,color='#181515',line_width=2)\n",
    "        return figure_h\n",
    "        \n",
    "    elif distribution=='binomial':\n",
    "        hist,edges=np.histogram(Data[column],density=True,bins=Number_intervals)\n",
    "        x = np.linspace(min(Data[column]), max(Data[column]), num=N)\n",
    "        y = stats.binom.pmf(x,n,p)\n",
    "        #Histograma distribucion binomial\n",
    "        figure_h.quad(top=hist,bottom=0,left=edges[:-1],right=edges[1:],\n",
    "              fill_color='#008080',line_color='black',legend_label='Binomial_distribution')\n",
    "        figure_h.line(x,y,color='#181515',line_width=2)\n",
    "        return figure_h\n"
   ]
  },
  {
   "cell_type": "markdown",
   "id": "e445bfc4-8de9-4863-b710-a853bef8b3bf",
   "metadata": {},
   "source": [
    "## Prueba de funciones"
   ]
  },
  {
   "cell_type": "code",
   "execution_count": 7,
   "id": "2cd31b47-cd4c-4a0f-b42f-757df2f4ad53",
   "metadata": {},
   "outputs": [],
   "source": [
    "df=df.rename(columns={0:'x',1:'y'})\n"
   ]
  },
  {
   "cell_type": "code",
   "execution_count": 8,
   "id": "cca90c52-28b2-4109-a960-3628e22fbe7d",
   "metadata": {},
   "outputs": [
    {
     "data": {
      "text/html": [
       "<div>\n",
       "<style scoped>\n",
       "    .dataframe tbody tr th:only-of-type {\n",
       "        vertical-align: middle;\n",
       "    }\n",
       "\n",
       "    .dataframe tbody tr th {\n",
       "        vertical-align: top;\n",
       "    }\n",
       "\n",
       "    .dataframe thead th {\n",
       "        text-align: right;\n",
       "    }\n",
       "</style>\n",
       "<table border=\"1\" class=\"dataframe\">\n",
       "  <thead>\n",
       "    <tr style=\"text-align: right;\">\n",
       "      <th></th>\n",
       "      <th>x</th>\n",
       "    </tr>\n",
       "  </thead>\n",
       "  <tbody>\n",
       "    <tr>\n",
       "      <th>0</th>\n",
       "      <td>0.298581</td>\n",
       "    </tr>\n",
       "    <tr>\n",
       "      <th>1</th>\n",
       "      <td>0.204635</td>\n",
       "    </tr>\n",
       "    <tr>\n",
       "      <th>2</th>\n",
       "      <td>0.281319</td>\n",
       "    </tr>\n",
       "    <tr>\n",
       "      <th>3</th>\n",
       "      <td>0.294748</td>\n",
       "    </tr>\n",
       "    <tr>\n",
       "      <th>4</th>\n",
       "      <td>0.178016</td>\n",
       "    </tr>\n",
       "    <tr>\n",
       "      <th>...</th>\n",
       "      <td>...</td>\n",
       "    </tr>\n",
       "    <tr>\n",
       "      <th>495</th>\n",
       "      <td>0.223788</td>\n",
       "    </tr>\n",
       "    <tr>\n",
       "      <th>496</th>\n",
       "      <td>0.127096</td>\n",
       "    </tr>\n",
       "    <tr>\n",
       "      <th>497</th>\n",
       "      <td>0.161890</td>\n",
       "    </tr>\n",
       "    <tr>\n",
       "      <th>498</th>\n",
       "      <td>0.247018</td>\n",
       "    </tr>\n",
       "    <tr>\n",
       "      <th>499</th>\n",
       "      <td>0.146006</td>\n",
       "    </tr>\n",
       "  </tbody>\n",
       "</table>\n",
       "<p>500 rows × 1 columns</p>\n",
       "</div>"
      ],
      "text/plain": [
       "            x\n",
       "0    0.298581\n",
       "1    0.204635\n",
       "2    0.281319\n",
       "3    0.294748\n",
       "4    0.178016\n",
       "..        ...\n",
       "495  0.223788\n",
       "496  0.127096\n",
       "497  0.161890\n",
       "498  0.247018\n",
       "499  0.146006\n",
       "\n",
       "[500 rows x 1 columns]"
      ]
     },
     "execution_count": 8,
     "metadata": {},
     "output_type": "execute_result"
    }
   ],
   "source": [
    "df"
   ]
  },
  {
   "cell_type": "code",
   "execution_count": 13,
   "id": "499e1092-701a-4d6b-ae82-277dce00e487",
   "metadata": {},
   "outputs": [],
   "source": [
    "#histogram_plot(Data,column,name,distribution,m=0,std=1,s=0.9,n=500,p=0.1,ancho=400,alto=400)\n",
    "mean=df['x'].mean()\n",
    "stdev=df['x'].std()\n",
    "histogram=histogram_plot(df,'x','normality_test','normal',m=mean,std=stdev)"
   ]
  },
  {
   "cell_type": "code",
   "execution_count": 14,
   "id": "85c3c5d2-86de-40da-8c4b-aad8902eca7d",
   "metadata": {},
   "outputs": [],
   "source": [
    "show(histogram)"
   ]
  },
  {
   "cell_type": "code",
   "execution_count": 16,
   "id": "5f8caf63-990e-4a95-9308-12076fd2186c",
   "metadata": {},
   "outputs": [],
   "source": [
    "#Random.sample(list,k)\n",
    "#tomara una muestra de valores random del conjunto de mediciones que tenemos"
   ]
  },
  {
   "cell_type": "code",
   "execution_count": 19,
   "id": "172c2a8b-a4a7-4c7e-b89c-e57eb79827b1",
   "metadata": {},
   "outputs": [],
   "source": [
    "#Definir el tamaño de muestra de una poblacion.\n",
    "p=0.5\n",
    "z=1.96\n",
    "e=0.05\n",
    "N=df['x'].count()\n",
    "n=(N*z**2)*p*(1-p)/((N-1)*e+(z**2)*p*(1-p))"
   ]
  },
  {
   "cell_type": "code",
   "execution_count": 20,
   "id": "bff4313a-c3c2-42db-bb4c-7302545aafe9",
   "metadata": {},
   "outputs": [
    {
     "data": {
      "text/plain": [
       "18.533098678522904"
      ]
     },
     "execution_count": 20,
     "metadata": {},
     "output_type": "execute_result"
    }
   ],
   "source": []
  },
  {
   "cell_type": "code",
   "execution_count": 56,
   "id": "fc1281d2-974a-4284-bf18-d1a9a20bf00e",
   "metadata": {},
   "outputs": [],
   "source": [
    "#Primeros 100 valores\n",
    "a=[np.array(random.sample(list(df['x']),k=int(3))).mean() for i in range(100)]\n",
    "data={\n",
    "    \"x\":a\n",
    "}\n",
    "df_2=pd.DataFrame(data)\n",
    "histogram1=histogram_plot(df_2,'x','normality_test','normal',m=df_2['x'].mean(),std=df_2['x'].std())\n"
   ]
  },
  {
   "cell_type": "code",
   "execution_count": 57,
   "id": "35bd9e0e-1e7e-46a4-96ca-6c63faf26273",
   "metadata": {},
   "outputs": [],
   "source": [
    "#Primeros 200 valores\n",
    "a=[np.array(random.sample(list(df['x']),k=int(5))).mean() for i in range(200)]\n",
    "data={\n",
    "    \"x\":a\n",
    "}\n",
    "df_2=pd.DataFrame(data)\n",
    "histogram2=histogram_plot(df_2,'x','normality_test','normal',m=df_2['x'].mean(),std=df_2['x'].std())\n"
   ]
  },
  {
   "cell_type": "code",
   "execution_count": 58,
   "id": "dd6f67b8-7996-4013-8262-9667574f6c70",
   "metadata": {},
   "outputs": [],
   "source": [
    "#Primeros 300 valores\n",
    "a=[np.array(random.sample(list(df['x']),k=int(10))).mean() for i in range(300)]\n",
    "data={\n",
    "    \"x\":a\n",
    "}\n",
    "df_2=pd.DataFrame(data)\n",
    "histogram3=histogram_plot(df_2,'x','normality_test','normal',m=df_2['x'].mean(),std=df_2['x'].std())\n"
   ]
  },
  {
   "cell_type": "code",
   "execution_count": 59,
   "id": "9da298e9-af5c-430f-99f0-74f7f3ce932b",
   "metadata": {},
   "outputs": [],
   "source": [
    "#Primeros 500 valores\n",
    "a=[np.array(random.sample(list(df['x']),k=int(15))).mean() for i in range(500)]\n",
    "data={\n",
    "    \"x\":a\n",
    "}\n",
    "df_2=pd.DataFrame(data)\n",
    "histogram4=histogram_plot(df_2,'x','normality_test','normal',m=df_2['x'].mean(),std=df_2['x'].std())\n"
   ]
  },
  {
   "cell_type": "code",
   "execution_count": 60,
   "id": "9d60b962-aa0b-48e0-9a95-6df1e638c32c",
   "metadata": {},
   "outputs": [],
   "source": [
    "#Primeros 1000 valores\n",
    "a=[np.array(random.sample(list(df['x']),k=int(round(n,0)))).mean() for i in range(1000)]\n",
    "data={\n",
    "    \"x\":a\n",
    "}\n",
    "df_2=pd.DataFrame(data)\n",
    "histogram5=histogram_plot(df_2,'x','normality_test','normal',m=df_2['x'].mean(),std=df_2['x'].std())\n"
   ]
  },
  {
   "cell_type": "code",
   "execution_count": 61,
   "id": "ca07aa8a-fe98-4bb6-9ad3-699869df0f1d",
   "metadata": {},
   "outputs": [],
   "source": [
    "layout1=layout([histogram1,histogram2,histogram3,histogram4,histogram5])\n",
    "show(layout1)"
   ]
  },
  {
   "cell_type": "code",
   "execution_count": null,
   "id": "f0227975-fabd-469d-903c-16b710c125e4",
   "metadata": {},
   "outputs": [],
   "source": [
    "def central_limit(df):\n",
    "    a=[np.array(random.sample(list(df['x']),k=int(3))).mean() for i in range(100)]\n",
    "    data={\n",
    "        \"x\":a\n",
    "    }\n",
    "    df_2=pd.DataFrame(data)\n",
    "    histogram1=histogram_plot(df,'x','normality_test','normal',m=df['x'].mean(),std=df['x'].std())\n",
    "    "
   ]
  }
 ],
 "metadata": {
  "kernelspec": {
   "display_name": "Python 3 (ipykernel)",
   "language": "python",
   "name": "python3"
  },
  "language_info": {
   "codemirror_mode": {
    "name": "ipython",
    "version": 3
   },
   "file_extension": ".py",
   "mimetype": "text/x-python",
   "name": "python",
   "nbconvert_exporter": "python",
   "pygments_lexer": "ipython3",
   "version": "3.10.1"
  }
 },
 "nbformat": 4,
 "nbformat_minor": 5
}
